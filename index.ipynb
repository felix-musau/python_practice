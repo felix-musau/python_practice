{
 "cells": [
  {
   "cell_type": "code",
   "execution_count": 1,
   "id": "83d78edc-4279-4b63-832a-9facb7d3f63c",
   "metadata": {},
   "outputs": [
    {
     "name": "stdout",
     "output_type": "stream",
     "text": [
      "Welcome\n"
     ]
    }
   ],
   "source": [
    "print(\"Welcome\")"
   ]
  },
  {
   "cell_type": "markdown",
   "id": "26a5012a-faef-4f1a-a234-afcc85c8f32f",
   "metadata": {},
   "source": [
    "## How to create a pandas dataframe from scratch\n"
   ]
  },
  {
   "cell_type": "code",
   "execution_count": 7,
   "id": "70116ce8-17fb-43f0-9e27-aa090919c602",
   "metadata": {},
   "outputs": [],
   "source": [
    "import pandas as pd"
   ]
  },
  {
   "cell_type": "code",
   "execution_count": 9,
   "id": "261512f6-7a66-4698-aa5b-d1f4d778a328",
   "metadata": {},
   "outputs": [],
   "source": [
    "df = pd.DataFrame({'name': [ 'Juan', 'Dave', 'Daisy', 'Anne', 'Kev', 'Halima'],\n",
    "                   'Age': [ 18, 19, 21, 26, 24, 20],\n",
    "                   'City': ['Miami', 'Alabama', 'Chiccago', 'Houston', 'Santiago', 'Buenos Aires'],\n",
    "                   'GPA' : [3.2, 3.4, 4.0, 3.5, 4.0, 2.7]\n",
    "                  })\n",
    "                   "
   ]
  },
  {
   "cell_type": "code",
   "execution_count": 11,
   "id": "ca671068-3900-4ea0-8e66-8a8e6aa6b69a",
   "metadata": {},
   "outputs": [
    {
     "data": {
      "text/html": [
       "<div>\n",
       "<style scoped>\n",
       "    .dataframe tbody tr th:only-of-type {\n",
       "        vertical-align: middle;\n",
       "    }\n",
       "\n",
       "    .dataframe tbody tr th {\n",
       "        vertical-align: top;\n",
       "    }\n",
       "\n",
       "    .dataframe thead th {\n",
       "        text-align: right;\n",
       "    }\n",
       "</style>\n",
       "<table border=\"1\" class=\"dataframe\">\n",
       "  <thead>\n",
       "    <tr style=\"text-align: right;\">\n",
       "      <th></th>\n",
       "      <th>name</th>\n",
       "      <th>Age</th>\n",
       "      <th>City</th>\n",
       "      <th>GPA</th>\n",
       "    </tr>\n",
       "  </thead>\n",
       "  <tbody>\n",
       "    <tr>\n",
       "      <th>0</th>\n",
       "      <td>Juan</td>\n",
       "      <td>18</td>\n",
       "      <td>Miami</td>\n",
       "      <td>3.2</td>\n",
       "    </tr>\n",
       "    <tr>\n",
       "      <th>1</th>\n",
       "      <td>Dave</td>\n",
       "      <td>19</td>\n",
       "      <td>Alabama</td>\n",
       "      <td>3.4</td>\n",
       "    </tr>\n",
       "    <tr>\n",
       "      <th>2</th>\n",
       "      <td>Daisy</td>\n",
       "      <td>21</td>\n",
       "      <td>Chiccago</td>\n",
       "      <td>4.0</td>\n",
       "    </tr>\n",
       "    <tr>\n",
       "      <th>3</th>\n",
       "      <td>Anne</td>\n",
       "      <td>26</td>\n",
       "      <td>Houston</td>\n",
       "      <td>3.5</td>\n",
       "    </tr>\n",
       "    <tr>\n",
       "      <th>4</th>\n",
       "      <td>Kev</td>\n",
       "      <td>24</td>\n",
       "      <td>Santiago</td>\n",
       "      <td>4.0</td>\n",
       "    </tr>\n",
       "    <tr>\n",
       "      <th>5</th>\n",
       "      <td>Halima</td>\n",
       "      <td>20</td>\n",
       "      <td>Buenos Aires</td>\n",
       "      <td>2.7</td>\n",
       "    </tr>\n",
       "  </tbody>\n",
       "</table>\n",
       "</div>"
      ],
      "text/plain": [
       "     name  Age          City  GPA\n",
       "0    Juan   18         Miami  3.2\n",
       "1    Dave   19       Alabama  3.4\n",
       "2   Daisy   21      Chiccago  4.0\n",
       "3    Anne   26       Houston  3.5\n",
       "4     Kev   24      Santiago  4.0\n",
       "5  Halima   20  Buenos Aires  2.7"
      ]
     },
     "execution_count": 11,
     "metadata": {},
     "output_type": "execute_result"
    }
   ],
   "source": [
    "df"
   ]
  },
  {
   "cell_type": "markdown",
   "id": "21c473cf-e80d-4612-81fb-0bea5a2267d5",
   "metadata": {},
   "source": [
    "## Defining functions. In Detail"
   ]
  },
  {
   "cell_type": "code",
   "execution_count": 13,
   "id": "dd4a6eb3-0a32-4dda-9e70-56ed1a03a18a",
   "metadata": {},
   "outputs": [
    {
     "data": {
      "text/plain": [
       "9"
      ]
     },
     "execution_count": 13,
     "metadata": {},
     "output_type": "execute_result"
    }
   ],
   "source": [
    "# Simple def functions\n",
    "def add(a,b):\n",
    "    \"\"\"Adds the provided numbers\"\"\"\n",
    "    return a+b\n",
    "add(4,5)\n"
   ]
  },
  {
   "cell_type": "code",
   "execution_count": 15,
   "id": "320ecf7d-9fe7-4f74-ae25-b9188491c5d5",
   "metadata": {},
   "outputs": [
    {
     "data": {
      "text/plain": [
       "3"
      ]
     },
     "execution_count": 15,
     "metadata": {},
     "output_type": "execute_result"
    }
   ],
   "source": [
    "# Calling the argument\n",
    "result = add(1,2)\n",
    "result"
   ]
  },
  {
   "cell_type": "code",
   "execution_count": null,
   "id": "47001440-9de4-409c-8144-def66e8f358e",
   "metadata": {},
   "outputs": [],
   "source": []
  },
  {
   "cell_type": "code",
   "execution_count": null,
   "id": "cd3116de-189d-454b-8501-874c29fec059",
   "metadata": {},
   "outputs": [],
   "source": []
  },
  {
   "cell_type": "markdown",
   "id": "96a5fef3-f50b-42aa-adfc-fb408dd88840",
   "metadata": {},
   "source": [
    "### Arbitrary Arguments (*args)"
   ]
  },
  {
   "cell_type": "code",
   "execution_count": 17,
   "id": "be1091e9-2445-4e90-8dd2-fb23f61e3e3b",
   "metadata": {},
   "outputs": [
    {
     "data": {
      "text/plain": [
       "6"
      ]
     },
     "execution_count": 17,
     "metadata": {},
     "output_type": "execute_result"
    }
   ],
   "source": [
    "def multiply(*args):\n",
    "    result = 1\n",
    "    for num in args:\n",
    "        result*=num\n",
    "    return result\n",
    "multiply(2,1,3,1)\n"
   ]
  },
  {
   "cell_type": "markdown",
   "id": "6b7da6ec-ec8a-4532-8533-4f99344f1778",
   "metadata": {},
   "source": [
    "As we can see above, args allow you the freedom to insert as many values as possible"
   ]
  },
  {
   "cell_type": "markdown",
   "id": "269dc9ba-fc39-4661-979d-66581920121f",
   "metadata": {},
   "source": [
    "### Multiple keyword arguments as a dictionary"
   ]
  },
  {
   "cell_type": "code",
   "execution_count": 19,
   "id": "b109b53e-283a-4e1f-acc2-e6d81d308aa9",
   "metadata": {},
   "outputs": [
    {
     "name": "stdout",
     "output_type": "stream",
     "text": [
      "Kev is 12 years old\n",
      "Jane is 13 years old\n",
      "Jude is 14 years old\n",
      "Ann is 11 years old\n"
     ]
    }
   ],
   "source": [
    "def names(**kwargs):\n",
    "    for key, value in kwargs.items():\n",
    "        print (f\"{key} is {value} years old\")\n",
    "names(Kev=12 , Jane= 13, Jude=14, Ann =11)"
   ]
  },
  {
   "cell_type": "code",
   "execution_count": 21,
   "id": "c399a6c2-3dd7-49b0-b8dc-5340fe859098",
   "metadata": {},
   "outputs": [
    {
     "name": "stdout",
     "output_type": "stream",
     "text": [
      "Nairobi is the capital of Kenya\n",
      "Kampala is the capital of Uganda\n",
      "Dodoma is the capital of Tanzania\n"
     ]
    }
   ],
   "source": [
    "\n",
    "def city(**kwargs):\n",
    "    for key, value in kwargs.items():\n",
    "        print (f\"{key} is the capital of {value}\")\n",
    "city(Nairobi = \"Kenya\" , Kampala = \"Uganda\", Dodoma = \"Tanzania\")\n",
    "\n"
   ]
  },
  {
   "cell_type": "code",
   "execution_count": null,
   "id": "78cd09af-ad1d-422c-81d4-6a451bd1cb88",
   "metadata": {},
   "outputs": [],
   "source": []
  },
  {
   "cell_type": "markdown",
   "id": "9f35e909-7c7c-46ad-970e-9a33a45e9aff",
   "metadata": {},
   "source": [
    "### Lambda Functions"
   ]
  },
  {
   "cell_type": "code",
   "execution_count": 23,
   "id": "f1dea648-46c7-40a8-8fe0-62187ed34b23",
   "metadata": {},
   "outputs": [
    {
     "data": {
      "text/plain": [
       "16"
      ]
     },
     "execution_count": 23,
     "metadata": {},
     "output_type": "execute_result"
    }
   ],
   "source": [
    "square  = lambda x : x*x\n",
    "square(4)"
   ]
  },
  {
   "cell_type": "code",
   "execution_count": 25,
   "id": "cfbd293c-3e0c-42a7-9fad-4843b7365741",
   "metadata": {},
   "outputs": [
    {
     "data": {
      "text/plain": [
       "144"
      ]
     },
     "execution_count": 25,
     "metadata": {},
     "output_type": "execute_result"
    }
   ],
   "source": [
    "square(12)"
   ]
  },
  {
   "cell_type": "code",
   "execution_count": 27,
   "id": "6c9d2071-224d-455e-8027-e4716975d4f6",
   "metadata": {},
   "outputs": [],
   "source": [
    "age = list(df['Age'])\n"
   ]
  },
  {
   "cell_type": "code",
   "execution_count": 29,
   "id": "ee2e1ce2-bdbe-4002-984c-bb330d51e64e",
   "metadata": {},
   "outputs": [
    {
     "data": {
      "text/plain": [
       "[324, 361, 441, 676, 576, 400]"
      ]
     },
     "execution_count": 29,
     "metadata": {},
     "output_type": "execute_result"
    }
   ],
   "source": [
    "age_squared = list(map(lambda x: x**2,age ))\n",
    "age_squared"
   ]
  },
  {
   "cell_type": "code",
   "execution_count": 31,
   "id": "79c6311f-d565-4a86-a975-d5ec69fa3c09",
   "metadata": {},
   "outputs": [
    {
     "data": {
      "text/plain": [
       "8.0"
      ]
     },
     "execution_count": 31,
     "metadata": {},
     "output_type": "execute_result"
    }
   ],
   "source": [
    "root = 64**0.5\n",
    "root"
   ]
  },
  {
   "cell_type": "code",
   "execution_count": 33,
   "id": "e5263c51-ffcd-4230-a958-5be2c69079e2",
   "metadata": {},
   "outputs": [
    {
     "name": "stdout",
     "output_type": "stream",
     "text": [
      "15\n"
     ]
    }
   ],
   "source": [
    "max_val = lambda a, b: a if a > b else b\n",
    "print(max_val(10, 15))"
   ]
  },
  {
   "cell_type": "code",
   "execution_count": 35,
   "id": "2a8fa07a-9b27-4e4b-be65-57912137c008",
   "metadata": {},
   "outputs": [],
   "source": [
    "def greeting(x):\n",
    "    for name in x:\n",
    "        print(f\" Hello {name}, Welcome!\")"
   ]
  },
  {
   "cell_type": "code",
   "execution_count": 37,
   "id": "3a086888-e4f6-4c42-9b22-529505c9e495",
   "metadata": {},
   "outputs": [
    {
     "name": "stdout",
     "output_type": "stream",
     "text": [
      " Hello Juan, Welcome!\n",
      " Hello Dave, Welcome!\n",
      " Hello Daisy, Welcome!\n",
      " Hello Anne, Welcome!\n",
      " Hello Kev, Welcome!\n",
      " Hello Halima, Welcome!\n"
     ]
    }
   ],
   "source": [
    "greeting(df['name'])"
   ]
  },
  {
   "cell_type": "code",
   "execution_count": null,
   "id": "bcffb4dc-c043-4b1b-b7ac-d315eefb8b93",
   "metadata": {},
   "outputs": [],
   "source": []
  },
  {
   "cell_type": "code",
   "execution_count": 39,
   "id": "bc766e43-38d9-421b-a839-af00eb8b2765",
   "metadata": {},
   "outputs": [
    {
     "data": {
      "text/html": [
       "<div>\n",
       "<style scoped>\n",
       "    .dataframe tbody tr th:only-of-type {\n",
       "        vertical-align: middle;\n",
       "    }\n",
       "\n",
       "    .dataframe tbody tr th {\n",
       "        vertical-align: top;\n",
       "    }\n",
       "\n",
       "    .dataframe thead th {\n",
       "        text-align: right;\n",
       "    }\n",
       "</style>\n",
       "<table border=\"1\" class=\"dataframe\">\n",
       "  <thead>\n",
       "    <tr style=\"text-align: right;\">\n",
       "      <th></th>\n",
       "      <th>name</th>\n",
       "      <th>Age</th>\n",
       "      <th>City</th>\n",
       "      <th>GPA</th>\n",
       "    </tr>\n",
       "  </thead>\n",
       "  <tbody>\n",
       "    <tr>\n",
       "      <th>0</th>\n",
       "      <td>Juan</td>\n",
       "      <td>18</td>\n",
       "      <td>Miami</td>\n",
       "      <td>3.2</td>\n",
       "    </tr>\n",
       "    <tr>\n",
       "      <th>1</th>\n",
       "      <td>Dave</td>\n",
       "      <td>19</td>\n",
       "      <td>Alabama</td>\n",
       "      <td>3.4</td>\n",
       "    </tr>\n",
       "    <tr>\n",
       "      <th>2</th>\n",
       "      <td>Daisy</td>\n",
       "      <td>21</td>\n",
       "      <td>Chiccago</td>\n",
       "      <td>4.0</td>\n",
       "    </tr>\n",
       "    <tr>\n",
       "      <th>3</th>\n",
       "      <td>Anne</td>\n",
       "      <td>26</td>\n",
       "      <td>Houston</td>\n",
       "      <td>3.5</td>\n",
       "    </tr>\n",
       "    <tr>\n",
       "      <th>4</th>\n",
       "      <td>Kev</td>\n",
       "      <td>24</td>\n",
       "      <td>Santiago</td>\n",
       "      <td>4.0</td>\n",
       "    </tr>\n",
       "    <tr>\n",
       "      <th>5</th>\n",
       "      <td>Halima</td>\n",
       "      <td>20</td>\n",
       "      <td>Buenos Aires</td>\n",
       "      <td>2.7</td>\n",
       "    </tr>\n",
       "  </tbody>\n",
       "</table>\n",
       "</div>"
      ],
      "text/plain": [
       "     name  Age          City  GPA\n",
       "0    Juan   18         Miami  3.2\n",
       "1    Dave   19       Alabama  3.4\n",
       "2   Daisy   21      Chiccago  4.0\n",
       "3    Anne   26       Houston  3.5\n",
       "4     Kev   24      Santiago  4.0\n",
       "5  Halima   20  Buenos Aires  2.7"
      ]
     },
     "execution_count": 39,
     "metadata": {},
     "output_type": "execute_result"
    }
   ],
   "source": [
    "df"
   ]
  },
  {
   "cell_type": "code",
   "execution_count": 41,
   "id": "67ca9a0d-bd2b-4e20-ba48-1d86d041afa4",
   "metadata": {},
   "outputs": [
    {
     "data": {
      "text/plain": [
       "'Hi Joe'"
      ]
     },
     "execution_count": 41,
     "metadata": {},
     "output_type": "execute_result"
    }
   ],
   "source": [
    "def meet(name):\n",
    "    message = f\"Hi {name.capitalize()}\"\n",
    "    return message\n",
    "meet(\"Joe\")"
   ]
  },
  {
   "cell_type": "code",
   "execution_count": 43,
   "id": "bd4ecc8c-ac90-458c-a763-99defb691008",
   "metadata": {},
   "outputs": [],
   "source": [
    "import sqlite3"
   ]
  },
  {
   "cell_type": "code",
   "execution_count": null,
   "id": "3e4ac3d3-5369-4e90-8357-ffdcff8d84bc",
   "metadata": {},
   "outputs": [],
   "source": []
  },
  {
   "cell_type": "code",
   "execution_count": null,
   "id": "aa265afa-ae1d-40c2-89cc-7293d3c6651e",
   "metadata": {},
   "outputs": [],
   "source": []
  },
  {
   "cell_type": "code",
   "execution_count": 73,
   "id": "dceafadf-4869-450c-970d-56d7f202a139",
   "metadata": {},
   "outputs": [],
   "source": [
    "connection = sqlite3.connect(\"songs.db\")"
   ]
  },
  {
   "cell_type": "code",
   "execution_count": 75,
   "id": "42ca87d2-c0a6-4c89-9297-295791e4a7b8",
   "metadata": {},
   "outputs": [],
   "source": [
    "cursor = connection.cursor()\n"
   ]
  },
  {
   "cell_type": "code",
   "execution_count": 79,
   "id": "4ee79ab3-c9bc-4919-8f96-5a8dbf733919",
   "metadata": {},
   "outputs": [
    {
     "data": {
      "text/plain": [
       "<sqlite3.Cursor at 0x28ddd2850c0>"
      ]
     },
     "execution_count": 79,
     "metadata": {},
     "output_type": "execute_result"
    }
   ],
   "source": [
    "cursor.execute(\"Create table songs( release_yr integer, Artist text , Song text)\")"
   ]
  },
  {
   "cell_type": "code",
   "execution_count": 81,
   "id": "706bf8f6-842e-4787-a9fb-386ccdc6aa7a",
   "metadata": {},
   "outputs": [],
   "source": [
    "release = [\n",
    "    (2016, \"Juice World\" , \"All girls are the same\"),\n",
    "    (2018, \"21 Savage\" , \"Runnin\"),\n",
    "    (2019, \"XXX-Tentancion\" , \"Hope\"),\n",
    "    (2023, \"Dave\" , \"Sprinter\"),\n",
    "    (2020, \"Snoop-Dogg\" , \"Star\"),\n",
    "    (2021, \"SZA\", \"Kill Bill\"),\n",
    "    (2022, \"Doja\" , \"Woman\")\n",
    "]\n",
    "    \n"
   ]
  },
  {
   "cell_type": "code",
   "execution_count": 85,
   "id": "a4c14a99-15b3-4e68-8147-2d973153abca",
   "metadata": {},
   "outputs": [
    {
     "data": {
      "text/plain": [
       "<sqlite3.Cursor at 0x28ddd2850c0>"
      ]
     },
     "execution_count": 85,
     "metadata": {},
     "output_type": "execute_result"
    }
   ],
   "source": [
    "cursor.executemany(\"Insert into songs values (?,?,?)\", release)"
   ]
  },
  {
   "cell_type": "code",
   "execution_count": 87,
   "id": "df9ece42-ee86-4dc0-a7f0-17ce3aedba9b",
   "metadata": {},
   "outputs": [
    {
     "name": "stdout",
     "output_type": "stream",
     "text": [
      "(2016, 'Juice World', 'All girls are the same')\n",
      "(2018, '21 Savage', 'Runnin')\n",
      "(2019, 'XXX-Tentancion', 'Hope')\n",
      "(2023, 'Dave', 'Sprinter')\n",
      "(2020, 'Snoop-Dogg', 'Star')\n",
      "(2021, 'SZA', 'Kill Bill')\n",
      "(2022, 'Doja', 'Woman')\n"
     ]
    }
   ],
   "source": [
    "for row in cursor.execute(\"select * from songs\"):\n",
    "    print(row)"
   ]
  },
  {
   "cell_type": "code",
   "execution_count": null,
   "id": "c27a71a3-6d95-4376-8699-0e1e94bf6533",
   "metadata": {},
   "outputs": [],
   "source": [
    "cursor.execute(\"select * from songs "
   ]
  },
  {
   "cell_type": "code",
   "execution_count": null,
   "id": "1f55b196-bff0-4288-9fbd-94eb7573291d",
   "metadata": {},
   "outputs": [],
   "source": []
  },
  {
   "cell_type": "code",
   "execution_count": null,
   "id": "3704f923-b4b8-4989-84ee-f2cf45dd2e28",
   "metadata": {},
   "outputs": [],
   "source": []
  },
  {
   "cell_type": "code",
   "execution_count": null,
   "id": "efb5f56d-4fa3-4e58-a7cf-3f21af747418",
   "metadata": {},
   "outputs": [],
   "source": []
  },
  {
   "cell_type": "code",
   "execution_count": null,
   "id": "4487e2d7-0993-4a56-a24a-5e35120aeebc",
   "metadata": {},
   "outputs": [],
   "source": []
  },
  {
   "cell_type": "code",
   "execution_count": null,
   "id": "a06b888a-d619-4071-b3db-04c7c54adff9",
   "metadata": {},
   "outputs": [],
   "source": [
    "connection.close()"
   ]
  }
 ],
 "metadata": {
  "kernelspec": {
   "display_name": "Python [conda env:base] *",
   "language": "python",
   "name": "conda-base-py"
  },
  "language_info": {
   "codemirror_mode": {
    "name": "ipython",
    "version": 3
   },
   "file_extension": ".py",
   "mimetype": "text/x-python",
   "name": "python",
   "nbconvert_exporter": "python",
   "pygments_lexer": "ipython3",
   "version": "3.12.7"
  }
 },
 "nbformat": 4,
 "nbformat_minor": 5
}
